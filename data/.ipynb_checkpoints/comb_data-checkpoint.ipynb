{
 "cells": [
  {
   "cell_type": "code",
   "execution_count": 2,
   "metadata": {},
   "outputs": [],
   "source": [
    "# Load the Pandas libraries with alias 'pd'\n",
    "import pandas as pd\n",
    "import numpy as np\n",
    "import json\n",
    "\n",
    "# Read data from file 'filename.csv'\n",
    "data_2019 = pd.read_csv(\"debit_combined_2019.csv\",)\n",
    "data_2020 = pd.read_csv(\"debit_combined_2020.csv\",)\n",
    "\n",
    "# Combinig dataframes\n",
    "frames = [data_2019, data_2020]\n",
    "comb_df = pd.concat(frames)\n",
    "\n",
    "# Exporting df as csv\n",
    "comb_df.to_csv(r'combined_data.csv', index = False)"
   ]
  }
 ],
 "metadata": {
  "kernelspec": {
   "display_name": "Python 3",
   "language": "python",
   "name": "python3"
  },
  "language_info": {
   "codemirror_mode": {
    "name": "ipython",
    "version": 3
   },
   "file_extension": ".py",
   "mimetype": "text/x-python",
   "name": "python",
   "nbconvert_exporter": "python",
   "pygments_lexer": "ipython3",
   "version": "3.7.6"
  }
 },
 "nbformat": 4,
 "nbformat_minor": 4
}
