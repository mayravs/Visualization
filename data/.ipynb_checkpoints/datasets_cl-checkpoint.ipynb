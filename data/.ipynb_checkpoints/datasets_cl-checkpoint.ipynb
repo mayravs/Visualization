{
 "cells": [
  {
   "cell_type": "code",
   "execution_count": 8,
   "metadata": {},
   "outputs": [],
   "source": [
    "# Load the Pandas libraries with alias 'pd'\n",
    "import pandas as pd\n",
    "\n",
    "# Read data from file 'filename.csv'\n",
    "data_MM = pd.read_csv(\"MM_2019_Data.csv\",)\n",
    "data_MVS = pd.read_csv(\"MVS_2019_Data.csv\",)\n",
    "\n",
    "# Combinig dataframes\n",
    "frames = [data_MM, data_MVS]\n",
    "comb_df = pd.concat(frames)\n",
    "\n",
    "# Delete unecesary column ie.'balance' & change labels \n",
    "comb_df = comb_df.drop(['Balance'], axis=1)\n",
    "comb_df = comb_df.rename(columns={\"Account Number\": \"account_number\", \"Transaction Date\": \"transaction_date\",\n",
    "                   \"Transaction Amount\": \"transaction_amount\", \"Transaction Type\": \"transaction_type\",\n",
    "                   \"Transaction Description\": \"transaction_description\", \"Category\": \"category\"})\n",
    "\n",
    "# Changing date format to 'yyyy/mm/dd'\n",
    "comb_df['transaction_date'] = pd.to_datetime(comb_df['transaction_date'])\n",
    "# comb_df['transaction_date'] = comb_df['transaction_date'].dt.strftime('%Y/%m/%d')\n",
    "\n",
    "# Set 'transaction Amount' to positive floats\n",
    "comb_df['transaction_amount'] = comb_df['transaction_amount'].astype('str')\n",
    "comb_df['transaction_amount'] = comb_df['transaction_amount'].str.replace('-','')\n",
    "comb_df['transaction_amount'] = comb_df['transaction_amount'].astype('float')\n",
    "\n",
    "# Separate debit vs credit rows\n",
    "credit_df = comb_df[(comb_df['transaction_type'] == 'Credit')]\n",
    "debit_df = comb_df[(comb_df['transaction_type'] == 'Debit')]\n",
    "\n",
    "# Delete unecesary column ie.'balance'\n",
    "credit_df = credit_df.drop(['transaction_type'], axis=1)\n",
    "debit_df = debit_df.drop(['transaction_type'], axis=1)\n",
    "\n",
    "# Replace 'Food ':'Food' in category colum to match rest of data\n",
    "debit_df.category = debit_df['category'].replace({'Food ': 'Food'})\n",
    "#  Check changes were applied\n",
    "# temp = debit_df[debit_df.category.eq('Food ')]\n",
    "# temp"
   ]
  },
  {
   "cell_type": "code",
   "execution_count": 26,
   "metadata": {},
   "outputs": [
    {
     "data": {
      "text/plain": [
       "DatetimeIndex(['2019-07-03', '2019-07-04', '2019-07-05', '2019-07-06',\n",
       "               '2019-07-07', '2019-07-08', '2019-07-09', '2019-07-10',\n",
       "               '2019-07-11', '2019-07-12',\n",
       "               ...\n",
       "               '2019-11-04', '2019-11-05', '2019-11-06', '2019-11-07',\n",
       "               '2019-11-08', '2019-11-09', '2019-11-10', '2019-11-11',\n",
       "               '2019-11-12', '2019-11-13'],\n",
       "              dtype='datetime64[ns]', length=134, freq='D')"
      ]
     },
     "execution_count": 26,
     "metadata": {},
     "output_type": "execute_result"
    }
   ],
   "source": [
    "# comb_df.info()\n",
    "\n",
    "# for dt in comb_df:\n",
    "#     print (dt)\n",
    "pd.date_range('2019-07-03', '2019-11-13')"
   ]
  },
  {
   "cell_type": "code",
   "execution_count": 7,
   "metadata": {},
   "outputs": [
    {
     "name": "stdout",
     "output_type": "stream",
     "text": [
      "<class 'pandas.core.frame.DataFrame'>\n",
      "Int64Index: 848 entries, 0 to 506\n",
      "Data columns (total 5 columns):\n",
      " #   Column                   Non-Null Count  Dtype  \n",
      "---  ------                   --------------  -----  \n",
      " 0   account_number           848 non-null    int64  \n",
      " 1   transaction_date         848 non-null    object \n",
      " 2   transaction_amount       848 non-null    float64\n",
      " 3   transaction_description  848 non-null    object \n",
      " 4   category                 848 non-null    object \n",
      "dtypes: float64(1), int64(1), object(3)\n",
      "memory usage: 39.8+ KB\n"
     ]
    }
   ],
   "source": [
    "# Add column 'Season' to dataset\n",
    "\n",
    "\n",
    "#  Function to  determine the season based on 2019 calander\n",
    "# Spring - March 20th - Wednesday\n",
    "# Summer - June 21st - Friday\n",
    "# Fall - September 23rd - Monday\t-207\n",
    "# Winter - December 21st - Saturday\n",
    "\n",
    "def getSeason(date):\n",
    "   \n",
    "    if (pd.date_range('2019-03-20', '2019-06-20')):\n",
    "       return \"spring\"\n",
    "    elif (pd.date_range('2019-06-21', '2019-09-22')):\n",
    "       return \"summer\"\n",
    "    elif (pd.date_range('2019-09-23', '2019-12-20')):\n",
    "       return \"fall\"\n",
    "    else:\n",
    "       return \"winter\""
   ]
  },
  {
   "cell_type": "code",
   "execution_count": null,
   "metadata": {},
   "outputs": [],
   "source": [
    "# Exporting df as csv\n",
    "credit_df.to_csv(r'credit_combined.csv', index = False)\n",
    "debit_df.to_csv(r'debit_combined.csv', index = False)"
   ]
  }
 ],
 "metadata": {
  "kernelspec": {
   "display_name": "Python 3",
   "language": "python",
   "name": "python3"
  },
  "language_info": {
   "codemirror_mode": {
    "name": "ipython",
    "version": 3
   },
   "file_extension": ".py",
   "mimetype": "text/x-python",
   "name": "python",
   "nbconvert_exporter": "python",
   "pygments_lexer": "ipython3",
   "version": "3.7.6"
  }
 },
 "nbformat": 4,
 "nbformat_minor": 4
}
