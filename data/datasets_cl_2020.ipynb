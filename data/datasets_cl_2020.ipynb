{
 "cells": [
  {
   "cell_type": "code",
   "execution_count": 1,
   "metadata": {},
   "outputs": [],
   "source": [
    "# Load the Pandas libraries with alias 'pd'\n",
    "import pandas as pd\n",
    "import numpy as np\n",
    "import json\n",
    "\n",
    "# Read data from file 'filename.csv'\n",
    "data_MM = pd.read_csv(\"MM_2020_data.csv\",)\n",
    "data_MVS = pd.read_csv(\"MVS_2020_data.csv\",)\n",
    "\n",
    "# Combinig dataframes\n",
    "frames = [data_MM, data_MVS]\n",
    "comb_df = pd.concat(frames)\n",
    "\n",
    "# Changing date format to 'yyyy/mm/dd'\n",
    "comb_df['transaction_date'] = pd.to_datetime(comb_df['transaction_date'])\n",
    "comb_df['transaction_date'] = comb_df['transaction_date'].dt.strftime('%Y/%m/%d')\n",
    "\n",
    "# Set 'transaction Amount' to positive floats\n",
    "comb_df['transaction_amount'] = comb_df['transaction_amount'].astype('str')\n",
    "comb_df['transaction_amount'] = comb_df['transaction_amount'].str.replace('-','')\n",
    "comb_df['transaction_amount'] = comb_df['transaction_amount'].astype('float')\n",
    "\n",
    "# Separate debit only\n",
    "# credit_df = comb_df[(comb_df['transaction_type'] == 'Credit')]\n",
    "debit_df = comb_df[(comb_df['transaction_type'] == 'Debit')]\n",
    "\n",
    "# Delete unecesary column ie.'transaction_type'\n",
    "# credit_df = credit_df.drop(['transaction_type'], axis=1)\n",
    "debit_df = debit_df.drop(['transaction_type'], axis=1)"
   ]
  },
  {
   "cell_type": "code",
   "execution_count": 25,
   "metadata": {},
   "outputs": [],
   "source": [
    "##################### Useful #####################\n",
    "# Drop rows based on condition\n",
    "# comb_df = comb_df[comb_df.category != 'Earning']\n",
    "\n",
    "# Check for rows with certain value \n",
    "    # df3 = comb_df[(comb_df['category'] == 'Food')]\n",
    "    # df3\n",
    "\n",
    "# Show unique values in certain column \n",
    "# column_values = debit_df[[\"category\"]].values.ravel()\n",
    "# unique_values =  pd.unique(column_values)\n",
    "# unique_values"
   ]
  },
  {
   "cell_type": "code",
   "execution_count": 3,
   "metadata": {},
   "outputs": [],
   "source": [
    "# Empty dictionaries to separate months \n",
    "jan = []\n",
    "feb = []\n",
    "mar = []\n",
    "apr = []\n",
    "may = []\n",
    "jun = []\n",
    "jul = []\n",
    "aug = []\n",
    "sep = []\n",
    "oct = []\n",
    "nov = []\n",
    "dec = []\n",
    "\n",
    "#  Organize data according to months\n",
    "for index, row in debit_df.iterrows(): \n",
    "    if row['transaction_date'] in pd.date_range(start='1/1/2020', end='1/31/2020'):\n",
    "        jan.append(row)\n",
    "    elif row['transaction_date'] in pd.date_range(start='2/1/2020', end='2/29/2020'):\n",
    "        feb.append(row)\n",
    "    elif row['transaction_date'] in pd.date_range(start='3/1/2020', end='3/31/2020'):\n",
    "        mar.append(row)\n",
    "    elif row['transaction_date'] in pd.date_range(start='4/1/2020', end='4/30/2020'):\n",
    "        apr.append(row)\n",
    "    elif row['transaction_date'] in pd.date_range(start='5/1/2020', end='5/31/2020'):\n",
    "        may.append(row)\n",
    "    elif row['transaction_date'] in pd.date_range(start='6/1/2020', end='6/30/2020'):\n",
    "        jun.append(row)\n",
    "    elif row['transaction_date'] in pd.date_range(start='7/1/2020', end='7/31/2020'):\n",
    "        jul.append(row)\n",
    "    elif row['transaction_date'] in pd.date_range(start='8/1/2020', end='8/31/2020'):\n",
    "        aug.append(row)\n",
    "    elif row['transaction_date'] in pd.date_range(start='9/1/2020', end='9/30/2020'):\n",
    "        sep.append(row)\n",
    "    elif row['transaction_date'] in pd.date_range(start='10/1/2020', end='10/31/2020'):\n",
    "        oct.append(row)\n",
    "    elif row['transaction_date'] in pd.date_range(start='11/1/2020', end='11/30/2020'):\n",
    "        nov.append(row)\n",
    "    else:\n",
    "        dec.append(row)\n",
    "        \n",
    "# Convert dictionaries to df \n",
    "january = pd.DataFrame.from_dict(jan)\n",
    "february = pd.DataFrame.from_dict(feb)\n",
    "march = pd.DataFrame.from_dict(mar)\n",
    "april = pd.DataFrame.from_dict(apr)\n",
    "may = pd.DataFrame.from_dict(may)\n",
    "june = pd.DataFrame.from_dict(jun)\n",
    "july = pd.DataFrame.from_dict(jul)\n",
    "august = pd.DataFrame.from_dict(aug)\n",
    "september = pd.DataFrame.from_dict(sep)\n",
    "october = pd.DataFrame.from_dict(oct)\n",
    "november = pd.DataFrame.from_dict(nov)\n",
    "december = pd.DataFrame.from_dict(dec)"
   ]
  },
  {
   "cell_type": "code",
   "execution_count": 27,
   "metadata": {},
   "outputs": [
    {
     "ename": "KeyError",
     "evalue": "'category'",
     "output_type": "error",
     "traceback": [
      "\u001b[0;31m---------------------------------------------------------------------------\u001b[0m",
      "\u001b[0;31mKeyError\u001b[0m                                  Traceback (most recent call last)",
      "\u001b[0;32m~/opt/anaconda3/lib/python3.7/site-packages/pandas/core/indexes/base.py\u001b[0m in \u001b[0;36mget_loc\u001b[0;34m(self, key, method, tolerance)\u001b[0m\n\u001b[1;32m   2645\u001b[0m             \u001b[0;32mtry\u001b[0m\u001b[0;34m:\u001b[0m\u001b[0;34m\u001b[0m\u001b[0;34m\u001b[0m\u001b[0m\n\u001b[0;32m-> 2646\u001b[0;31m                 \u001b[0;32mreturn\u001b[0m \u001b[0mself\u001b[0m\u001b[0;34m.\u001b[0m\u001b[0m_engine\u001b[0m\u001b[0;34m.\u001b[0m\u001b[0mget_loc\u001b[0m\u001b[0;34m(\u001b[0m\u001b[0mkey\u001b[0m\u001b[0;34m)\u001b[0m\u001b[0;34m\u001b[0m\u001b[0;34m\u001b[0m\u001b[0m\n\u001b[0m\u001b[1;32m   2647\u001b[0m             \u001b[0;32mexcept\u001b[0m \u001b[0mKeyError\u001b[0m\u001b[0;34m:\u001b[0m\u001b[0;34m\u001b[0m\u001b[0;34m\u001b[0m\u001b[0m\n",
      "\u001b[0;32mpandas/_libs/index.pyx\u001b[0m in \u001b[0;36mpandas._libs.index.IndexEngine.get_loc\u001b[0;34m()\u001b[0m\n",
      "\u001b[0;32mpandas/_libs/index.pyx\u001b[0m in \u001b[0;36mpandas._libs.index.IndexEngine.get_loc\u001b[0;34m()\u001b[0m\n",
      "\u001b[0;32mpandas/_libs/hashtable_class_helper.pxi\u001b[0m in \u001b[0;36mpandas._libs.hashtable.PyObjectHashTable.get_item\u001b[0;34m()\u001b[0m\n",
      "\u001b[0;32mpandas/_libs/hashtable_class_helper.pxi\u001b[0m in \u001b[0;36mpandas._libs.hashtable.PyObjectHashTable.get_item\u001b[0;34m()\u001b[0m\n",
      "\u001b[0;31mKeyError\u001b[0m: 'category'",
      "\nDuring handling of the above exception, another exception occurred:\n",
      "\u001b[0;31mKeyError\u001b[0m                                  Traceback (most recent call last)",
      "\u001b[0;32m<ipython-input-27-a630156f8e1f>\u001b[0m in \u001b[0;36m<module>\u001b[0;34m\u001b[0m\n\u001b[1;32m     25\u001b[0m         'account_number':acct_num})\n\u001b[1;32m     26\u001b[0m \u001b[0;34m\u001b[0m\u001b[0m\n\u001b[0;32m---> 27\u001b[0;31m \u001b[0mcalculate_expense_per_category\u001b[0m\u001b[0;34m(\u001b[0m\u001b[0mdata_dict\u001b[0m\u001b[0;34m,\u001b[0m \u001b[0mjanuary\u001b[0m\u001b[0;34m,\u001b[0m \u001b[0;34m'January'\u001b[0m\u001b[0;34m,\u001b[0m \u001b[0;36m7157\u001b[0m\u001b[0;34m)\u001b[0m\u001b[0;34m\u001b[0m\u001b[0;34m\u001b[0m\u001b[0m\n\u001b[0m\u001b[1;32m     28\u001b[0m \u001b[0mcalculate_expense_per_category\u001b[0m\u001b[0;34m(\u001b[0m\u001b[0mdata_dict\u001b[0m\u001b[0;34m,\u001b[0m \u001b[0mfebruary\u001b[0m\u001b[0;34m,\u001b[0m \u001b[0;34m'February'\u001b[0m\u001b[0;34m,\u001b[0m \u001b[0;36m7157\u001b[0m\u001b[0;34m)\u001b[0m\u001b[0;34m\u001b[0m\u001b[0;34m\u001b[0m\u001b[0m\n\u001b[1;32m     29\u001b[0m \u001b[0mcalculate_expense_per_category\u001b[0m\u001b[0;34m(\u001b[0m\u001b[0mdata_dict\u001b[0m\u001b[0;34m,\u001b[0m \u001b[0mmarch\u001b[0m\u001b[0;34m,\u001b[0m \u001b[0;34m'March'\u001b[0m\u001b[0;34m,\u001b[0m \u001b[0;36m7157\u001b[0m\u001b[0;34m)\u001b[0m\u001b[0;34m\u001b[0m\u001b[0;34m\u001b[0m\u001b[0m\n",
      "\u001b[0;32m<ipython-input-27-a630156f8e1f>\u001b[0m in \u001b[0;36mcalculate_expense_per_category\u001b[0;34m(data_dictionary, data, month, acct_num)\u001b[0m\n\u001b[1;32m      5\u001b[0m \u001b[0;32mdef\u001b[0m \u001b[0mcalculate_expense_per_category\u001b[0m\u001b[0;34m(\u001b[0m\u001b[0mdata_dictionary\u001b[0m\u001b[0;34m,\u001b[0m \u001b[0mdata\u001b[0m\u001b[0;34m,\u001b[0m \u001b[0mmonth\u001b[0m\u001b[0;34m,\u001b[0m \u001b[0macct_num\u001b[0m \u001b[0;34m)\u001b[0m\u001b[0;34m:\u001b[0m\u001b[0;34m\u001b[0m\u001b[0;34m\u001b[0m\u001b[0m\n\u001b[1;32m      6\u001b[0m     data_dictionary.append({'Month':month,\n\u001b[0;32m----> 7\u001b[0;31m         'Education':(data[(data['category']=='Education') & \n\u001b[0m\u001b[1;32m      8\u001b[0m                             (data['account_number']==acct_num)]['transaction_amount'].sum()),\n\u001b[1;32m      9\u001b[0m         'Entertainment':(data[(data['category']=='Entertainment') & \n",
      "\u001b[0;32m~/opt/anaconda3/lib/python3.7/site-packages/pandas/core/frame.py\u001b[0m in \u001b[0;36m__getitem__\u001b[0;34m(self, key)\u001b[0m\n\u001b[1;32m   2798\u001b[0m             \u001b[0;32mif\u001b[0m \u001b[0mself\u001b[0m\u001b[0;34m.\u001b[0m\u001b[0mcolumns\u001b[0m\u001b[0;34m.\u001b[0m\u001b[0mnlevels\u001b[0m \u001b[0;34m>\u001b[0m \u001b[0;36m1\u001b[0m\u001b[0;34m:\u001b[0m\u001b[0;34m\u001b[0m\u001b[0;34m\u001b[0m\u001b[0m\n\u001b[1;32m   2799\u001b[0m                 \u001b[0;32mreturn\u001b[0m \u001b[0mself\u001b[0m\u001b[0;34m.\u001b[0m\u001b[0m_getitem_multilevel\u001b[0m\u001b[0;34m(\u001b[0m\u001b[0mkey\u001b[0m\u001b[0;34m)\u001b[0m\u001b[0;34m\u001b[0m\u001b[0;34m\u001b[0m\u001b[0m\n\u001b[0;32m-> 2800\u001b[0;31m             \u001b[0mindexer\u001b[0m \u001b[0;34m=\u001b[0m \u001b[0mself\u001b[0m\u001b[0;34m.\u001b[0m\u001b[0mcolumns\u001b[0m\u001b[0;34m.\u001b[0m\u001b[0mget_loc\u001b[0m\u001b[0;34m(\u001b[0m\u001b[0mkey\u001b[0m\u001b[0;34m)\u001b[0m\u001b[0;34m\u001b[0m\u001b[0;34m\u001b[0m\u001b[0m\n\u001b[0m\u001b[1;32m   2801\u001b[0m             \u001b[0;32mif\u001b[0m \u001b[0mis_integer\u001b[0m\u001b[0;34m(\u001b[0m\u001b[0mindexer\u001b[0m\u001b[0;34m)\u001b[0m\u001b[0;34m:\u001b[0m\u001b[0;34m\u001b[0m\u001b[0;34m\u001b[0m\u001b[0m\n\u001b[1;32m   2802\u001b[0m                 \u001b[0mindexer\u001b[0m \u001b[0;34m=\u001b[0m \u001b[0;34m[\u001b[0m\u001b[0mindexer\u001b[0m\u001b[0;34m]\u001b[0m\u001b[0;34m\u001b[0m\u001b[0;34m\u001b[0m\u001b[0m\n",
      "\u001b[0;32m~/opt/anaconda3/lib/python3.7/site-packages/pandas/core/indexes/base.py\u001b[0m in \u001b[0;36mget_loc\u001b[0;34m(self, key, method, tolerance)\u001b[0m\n\u001b[1;32m   2646\u001b[0m                 \u001b[0;32mreturn\u001b[0m \u001b[0mself\u001b[0m\u001b[0;34m.\u001b[0m\u001b[0m_engine\u001b[0m\u001b[0;34m.\u001b[0m\u001b[0mget_loc\u001b[0m\u001b[0;34m(\u001b[0m\u001b[0mkey\u001b[0m\u001b[0;34m)\u001b[0m\u001b[0;34m\u001b[0m\u001b[0;34m\u001b[0m\u001b[0m\n\u001b[1;32m   2647\u001b[0m             \u001b[0;32mexcept\u001b[0m \u001b[0mKeyError\u001b[0m\u001b[0;34m:\u001b[0m\u001b[0;34m\u001b[0m\u001b[0;34m\u001b[0m\u001b[0m\n\u001b[0;32m-> 2648\u001b[0;31m                 \u001b[0;32mreturn\u001b[0m \u001b[0mself\u001b[0m\u001b[0;34m.\u001b[0m\u001b[0m_engine\u001b[0m\u001b[0;34m.\u001b[0m\u001b[0mget_loc\u001b[0m\u001b[0;34m(\u001b[0m\u001b[0mself\u001b[0m\u001b[0;34m.\u001b[0m\u001b[0m_maybe_cast_indexer\u001b[0m\u001b[0;34m(\u001b[0m\u001b[0mkey\u001b[0m\u001b[0;34m)\u001b[0m\u001b[0;34m)\u001b[0m\u001b[0;34m\u001b[0m\u001b[0;34m\u001b[0m\u001b[0m\n\u001b[0m\u001b[1;32m   2649\u001b[0m         \u001b[0mindexer\u001b[0m \u001b[0;34m=\u001b[0m \u001b[0mself\u001b[0m\u001b[0;34m.\u001b[0m\u001b[0mget_indexer\u001b[0m\u001b[0;34m(\u001b[0m\u001b[0;34m[\u001b[0m\u001b[0mkey\u001b[0m\u001b[0;34m]\u001b[0m\u001b[0;34m,\u001b[0m \u001b[0mmethod\u001b[0m\u001b[0;34m=\u001b[0m\u001b[0mmethod\u001b[0m\u001b[0;34m,\u001b[0m \u001b[0mtolerance\u001b[0m\u001b[0;34m=\u001b[0m\u001b[0mtolerance\u001b[0m\u001b[0;34m)\u001b[0m\u001b[0;34m\u001b[0m\u001b[0;34m\u001b[0m\u001b[0m\n\u001b[1;32m   2650\u001b[0m         \u001b[0;32mif\u001b[0m \u001b[0mindexer\u001b[0m\u001b[0;34m.\u001b[0m\u001b[0mndim\u001b[0m \u001b[0;34m>\u001b[0m \u001b[0;36m1\u001b[0m \u001b[0;32mor\u001b[0m \u001b[0mindexer\u001b[0m\u001b[0;34m.\u001b[0m\u001b[0msize\u001b[0m \u001b[0;34m>\u001b[0m \u001b[0;36m1\u001b[0m\u001b[0;34m:\u001b[0m\u001b[0;34m\u001b[0m\u001b[0;34m\u001b[0m\u001b[0m\n",
      "\u001b[0;32mpandas/_libs/index.pyx\u001b[0m in \u001b[0;36mpandas._libs.index.IndexEngine.get_loc\u001b[0;34m()\u001b[0m\n",
      "\u001b[0;32mpandas/_libs/index.pyx\u001b[0m in \u001b[0;36mpandas._libs.index.IndexEngine.get_loc\u001b[0;34m()\u001b[0m\n",
      "\u001b[0;32mpandas/_libs/hashtable_class_helper.pxi\u001b[0m in \u001b[0;36mpandas._libs.hashtable.PyObjectHashTable.get_item\u001b[0;34m()\u001b[0m\n",
      "\u001b[0;32mpandas/_libs/hashtable_class_helper.pxi\u001b[0m in \u001b[0;36mpandas._libs.hashtable.PyObjectHashTable.get_item\u001b[0;34m()\u001b[0m\n",
      "\u001b[0;31mKeyError\u001b[0m: 'category'"
     ]
    }
   ],
   "source": [
    "# Create JSON dictionary:\n",
    "data_dict = []    \n",
    "\n",
    "# Function to calculate expenses and add to the new json dictionary\n",
    "def calculate_expense_per_category(data_dictionary, data, month, acct_num ): \n",
    "    data_dictionary.append({'Month':month,\n",
    "        'Education':(data[(data['category']=='Education') & \n",
    "                            (data['account_number']==acct_num)]['transaction_amount'].sum()),\n",
    "        'Entertainment':(data[(data['category']=='Entertainment') & \n",
    "                            (data['account_number']==acct_num)]['transaction_amount'].sum()),\n",
    "        'Food':(data[(data['category']=='Food') & \n",
    "                            (data['account_number']==acct_num)]['transaction_amount'].sum()),\n",
    "        'Health':(data[(data['category']=='Health') & \n",
    "                            (data['account_number']==acct_num)]['transaction_amount'].sum()),\n",
    "        'Investment':(data[(data['category']=='Investment') & \n",
    "                            (data['account_number']==acct_num)]['transaction_amount'].sum()),\n",
    "        'Other':(data[(data['category']=='Other') & \n",
    "                            (data['account_number']==acct_num)]['transaction_amount'].sum()),\n",
    "        'Shopping':(data[(data['category']=='Shopping') & \n",
    "                            (data['account_number']==acct_num)]['transaction_amount'].sum()),\n",
    "        'Transportation':(data[(data['category']=='Transportation') & \n",
    "                            (data['account_number']==acct_num)]['transaction_amount'].sum()), \n",
    "        'Travel':(data[(data['category']=='Travel') & \n",
    "                            (data['account_number']==acct_num)]['transaction_amount'].sum()),\n",
    "        'account_number':acct_num})\n",
    "\n",
    "calculate_expense_per_category(data_dict, january, '202/', 7157)\n",
    "calculate_expense_per_category(data_dict, february, 'February', 7157)\n",
    "calculate_expense_per_category(data_dict, march, 'March', 7157)\n",
    "calculate_expense_per_category(data_dict, april, 'April', 7157)\n",
    "calculate_expense_per_category(data_dict, may, 'May', 7157)\n",
    "calculate_expense_per_category(data_dict, june, 'June', 7157)\n",
    "calculate_expense_per_category(data_dict, july, 'July', 7157)\n",
    "calculate_expense_per_category(data_dict, august, 'August', 7157)\n",
    "calculate_expense_per_category(data_dict, september, 'September', 7157)\n",
    "calculate_expense_per_category(data_dict, october, 'October', 7157)\n",
    "calculate_expense_per_category(data_dict, november, 'November', 7157)\n",
    "calculate_expense_per_category(data_dict, december, 'December', 7157)\n",
    "\n",
    "calculate_expense_per_category(data_dict, january, 'January', 8821)\n",
    "calculate_expense_per_category(data_dict, february, 'February', 8821)\n",
    "calculate_expense_per_category(data_dict, march, 'March', 8821)\n",
    "calculate_expense_per_category(data_dict, april, 'April', 8821)\n",
    "calculate_expense_per_category(data_dict, may, 'May', 8821)\n",
    "calculate_expense_per_category(data_dict, june, 'June', 8821)\n",
    "calculate_expense_per_category(data_dict, july, 'July', 8821)\n",
    "calculate_expense_per_category(data_dict, august, 'August', 8821)\n",
    "calculate_expense_per_category(data_dict, september, 'September', 8821)\n",
    "calculate_expense_per_category(data_dict, october, 'October', 8821)\n",
    "calculate_expense_per_category(data_dict, november, 'November', 8821)\n",
    "calculate_expense_per_category(data_dict, december, 'December', 8821)"
   ]
  },
  {
   "cell_type": "code",
   "execution_count": 7,
   "metadata": {},
   "outputs": [],
   "source": [
    "#  Export python dictionary into JSON\n",
    "with open('monthly_expenses_described.json', 'w') as fp:\n",
    "    json.dump(data_dict, fp,  indent=4)"
   ]
  },
  {
   "cell_type": "code",
   "execution_count": 13,
   "metadata": {},
   "outputs": [
    {
     "data": {
      "text/plain": [
       "array(['Transportation', 'Food', 'Shopping', 'Entertainment', 'Education',\n",
       "       'Health', 'Travel', 'Other', 'Investment', 'Earnings'],\n",
       "      dtype=object)"
      ]
     },
     "execution_count": 13,
     "metadata": {},
     "output_type": "execute_result"
    }
   ],
   "source": [
    "# Show unique values in certain column \n",
    "column_values = debit_df[[\"category\"]].values.ravel()\n",
    "unique_values =  pd.unique(column_values)\n",
    "unique_values"
   ]
  },
  {
   "cell_type": "code",
   "execution_count": 15,
   "metadata": {},
   "outputs": [
    {
     "data": {
      "text/html": [
       "<div>\n",
       "<style scoped>\n",
       "    .dataframe tbody tr th:only-of-type {\n",
       "        vertical-align: middle;\n",
       "    }\n",
       "\n",
       "    .dataframe tbody tr th {\n",
       "        vertical-align: top;\n",
       "    }\n",
       "\n",
       "    .dataframe thead th {\n",
       "        text-align: right;\n",
       "    }\n",
       "</style>\n",
       "<table border=\"1\" class=\"dataframe\">\n",
       "  <thead>\n",
       "    <tr style=\"text-align: right;\">\n",
       "      <th></th>\n",
       "      <th>account_number</th>\n",
       "      <th>transaction_date</th>\n",
       "      <th>transaction_description</th>\n",
       "      <th>transaction_amount</th>\n",
       "      <th>category</th>\n",
       "      <th>Season</th>\n",
       "    </tr>\n",
       "  </thead>\n",
       "  <tbody>\n",
       "    <tr>\n",
       "      <th>268</th>\n",
       "      <td>8821</td>\n",
       "      <td>2019/06/20</td>\n",
       "      <td>Debit Card Purchase - MERCARI SAN FRANCISC CA</td>\n",
       "      <td>13.0</td>\n",
       "      <td>Earnings</td>\n",
       "      <td>Spring</td>\n",
       "    </tr>\n",
       "  </tbody>\n",
       "</table>\n",
       "</div>"
      ],
      "text/plain": [
       "     account_number transaction_date  \\\n",
       "268            8821       2019/06/20   \n",
       "\n",
       "                           transaction_description  transaction_amount  \\\n",
       "268  Debit Card Purchase - MERCARI SAN FRANCISC CA                13.0   \n",
       "\n",
       "     category  Season  \n",
       "268  Earnings  Spring  "
      ]
     },
     "execution_count": 15,
     "metadata": {},
     "output_type": "execute_result"
    }
   ],
   "source": [
    "# Check for rows with certain value \n",
    "df3 = debit_df[(debit_df['category'] == 'Earnings')]\n",
    "df3"
   ]
  },
  {
   "cell_type": "code",
   "execution_count": 33,
   "metadata": {},
   "outputs": [],
   "source": [
    "# Exporting df as csv\n",
    "# credit_df.to_csv(r'credit_combined.csv', index = False)\n",
    "debit_df.to_csv(r'debit_combined_2020.csv', index = False)"
   ]
  }
 ],
 "metadata": {
  "kernelspec": {
   "display_name": "Python 3",
   "language": "python",
   "name": "python3"
  },
  "language_info": {
   "codemirror_mode": {
    "name": "ipython",
    "version": 3
   },
   "file_extension": ".py",
   "mimetype": "text/x-python",
   "name": "python",
   "nbconvert_exporter": "python",
   "pygments_lexer": "ipython3",
   "version": "3.7.6"
  }
 },
 "nbformat": 4,
 "nbformat_minor": 4
}
