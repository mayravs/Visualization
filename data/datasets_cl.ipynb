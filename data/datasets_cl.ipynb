{
 "cells": [
  {
   "cell_type": "code",
   "execution_count": 51,
   "metadata": {},
   "outputs": [],
   "source": [
    "# Load the Pandas libraries with alias 'pd'\n",
    "import pandas as pd\n",
    "\n",
    "# Read data from file 'filename.csv'\n",
    "data_MM = pd.read_csv(\"MM_2019_Data.csv\",)\n",
    "data_MVS = pd.read_csv(\"MVS_2019_Data.csv\",)\n",
    "\n",
    "# Combinig dataframes\n",
    "frames = [data_MM, data_MVS]\n",
    "comb_df = pd.concat(frames)\n",
    "\n",
    "# Delete unecesary column ie.'balance' & change labels \n",
    "comb_df = comb_df.drop(['Balance'], axis=1)\n",
    "comb_df = comb_df.rename(columns={\"Account Number\": \"account_number\", \"Transaction Date\": \"transaction_date\",\n",
    "                   \"Transaction Amount\": \"transaction_amount\", \"Transaction Type\": \"transaction_type\",\n",
    "                   \"Transaction Description\": \"transaction_description\", \"Category\": \"category\"})\n",
    "\n",
    "# Changing date format to 'yyyy/mm/dd'\n",
    "comb_df['transaction_date'] = pd.to_datetime(comb_df['transaction_date'])\n",
    "comb_df['transaction_date'] = comb_df['transaction_date'].dt.strftime('%Y/%m/%d')\n",
    "\n",
    "# Set 'transaction Amount' to positive floats\n",
    "comb_df['transaction_amount'] = comb_df['transaction_amount'].astype('str')\n",
    "comb_df['transaction_amount'] = comb_df['transaction_amount'].str.replace('-','')\n",
    "comb_df['transaction_amount'] = comb_df['transaction_amount'].astype('float')\n",
    "\n",
    "# Separate debit vs credit rows\n",
    "credit_df = comb_df[(comb_df['transaction_type'] == 'Credit')]\n",
    "debit_df = comb_df[(comb_df['transaction_type'] == 'Debit')]\n",
    "\n",
    "# Delete unecesary column ie.'balance'\n",
    "credit_df = credit_df.drop(['transaction_type'], axis=1)\n",
    "debit_df = debit_df.drop(['transaction_type'], axis=1)\n",
    "\n",
    "# Replace 'Food ':'Food' in category colum to match rest of data\n",
    "debit_df.category = debit_df['category'].replace({'Food ': 'Food'})\n",
    "\n",
    "# Exporting df as csv\n",
    "credit_df.to_csv(r'credit_combined.csv', index = False)\n",
    "debit_df.to_csv(r'debit_combined.csv', index = False)"
   ]
  },
  {
   "cell_type": "code",
   "execution_count": 57,
   "metadata": {},
   "outputs": [
    {
     "data": {
      "text/html": [
       "<div>\n",
       "<style scoped>\n",
       "    .dataframe tbody tr th:only-of-type {\n",
       "        vertical-align: middle;\n",
       "    }\n",
       "\n",
       "    .dataframe tbody tr th {\n",
       "        vertical-align: top;\n",
       "    }\n",
       "\n",
       "    .dataframe thead th {\n",
       "        text-align: right;\n",
       "    }\n",
       "</style>\n",
       "<table border=\"1\" class=\"dataframe\">\n",
       "  <thead>\n",
       "    <tr style=\"text-align: right;\">\n",
       "      <th></th>\n",
       "      <th>account_number</th>\n",
       "      <th>transaction_date</th>\n",
       "      <th>transaction_amount</th>\n",
       "      <th>transaction_description</th>\n",
       "      <th>category</th>\n",
       "    </tr>\n",
       "  </thead>\n",
       "  <tbody>\n",
       "  </tbody>\n",
       "</table>\n",
       "</div>"
      ],
      "text/plain": [
       "Empty DataFrame\n",
       "Columns: [account_number, transaction_date, transaction_amount, transaction_description, category]\n",
       "Index: []"
      ]
     },
     "execution_count": 57,
     "metadata": {},
     "output_type": "execute_result"
    }
   ],
   "source": [
    "gapminder_2002 = debit_df[debit_df.category.eq('Food ')]\n",
    "gapminder_2002"
   ]
  },
  {
   "cell_type": "code",
   "execution_count": null,
   "metadata": {},
   "outputs": [],
   "source": []
  }
 ],
 "metadata": {
  "kernelspec": {
   "display_name": "Python 3",
   "language": "python",
   "name": "python3"
  },
  "language_info": {
   "codemirror_mode": {
    "name": "ipython",
    "version": 3
   },
   "file_extension": ".py",
   "mimetype": "text/x-python",
   "name": "python",
   "nbconvert_exporter": "python",
   "pygments_lexer": "ipython3",
   "version": "3.7.6"
  }
 },
 "nbformat": 4,
 "nbformat_minor": 4
}
