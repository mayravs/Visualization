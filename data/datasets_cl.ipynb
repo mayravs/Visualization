{
 "cells": [
  {
   "cell_type": "code",
   "execution_count": 8,
   "metadata": {},
   "outputs": [],
   "source": [
    "# Load the Pandas libraries with alias 'pd'\n",
    "import pandas as pd\n",
    "\n",
    "# Read data from file 'filename.csv'\n",
    "data_MM = pd.read_csv(\"MM_2019_Data.csv\",)\n",
    "data_MVS = pd.read_csv(\"MVS_2019_Data.csv\",)\n",
    "\n",
    "# Combinig dataframes\n",
    "frames = [data_MM, data_MVS]\n",
    "comb_df = pd.concat(frames)\n",
    "\n",
    "# Delete unecesary column ie.'balance' & change labels \n",
    "comb_df = comb_df.drop(['Balance'], axis=1)\n",
    "comb_df = comb_df.rename(columns={\"Account Number\": \"account_number\", \"Transaction Date\": \"transaction_date\",\n",
    "                   \"Transaction Amount\": \"transaction_amount\", \"Transaction Type\": \"transaction_type\",\n",
    "                   \"Transaction Description\": \"transaction_description\", \"Category\": \"category\"})\n",
    "\n",
    "# Changing date format to 'yyyy/mm/dd'\n",
    "comb_df['transaction_date'] = pd.to_datetime(comb_df['transaction_date'])\n",
    "# comb_df['transaction_date'] = comb_df['transaction_date'].dt.strftime('%Y/%m/%d')\n",
    "\n",
    "# Set 'transaction Amount' to positive floats\n",
    "comb_df['transaction_amount'] = comb_df['transaction_amount'].astype('str')\n",
    "comb_df['transaction_amount'] = comb_df['transaction_amount'].str.replace('-','')\n",
    "comb_df['transaction_amount'] = comb_df['transaction_amount'].astype('float')\n",
    "\n",
    "# Separate debit vs credit rows\n",
    "credit_df = comb_df[(comb_df['transaction_type'] == 'Credit')]\n",
    "debit_df = comb_df[(comb_df['transaction_type'] == 'Debit')]\n",
    "\n",
    "# Delete unecesary column ie.'balance'\n",
    "credit_df = credit_df.drop(['transaction_type'], axis=1)\n",
    "debit_df = debit_df.drop(['transaction_type'], axis=1)\n",
    "\n",
    "# Replace 'Food ':'Food' in category colum to match rest of data\n",
    "debit_df.category = debit_df['category'].replace({'Food ': 'Food'})\n",
    "#  Check changes were applied\n",
    "# temp = debit_df[debit_df.category.eq('Food ')]\n",
    "# temp"
   ]
  },
  {
   "cell_type": "code",
   "execution_count": 26,
   "metadata": {},
   "outputs": [
    {
     "data": {
      "text/plain": [
       "DatetimeIndex(['2019-07-03', '2019-07-04', '2019-07-05', '2019-07-06',\n",
       "               '2019-07-07', '2019-07-08', '2019-07-09', '2019-07-10',\n",
       "               '2019-07-11', '2019-07-12',\n",
       "               ...\n",
       "               '2019-11-04', '2019-11-05', '2019-11-06', '2019-11-07',\n",
       "               '2019-11-08', '2019-11-09', '2019-11-10', '2019-11-11',\n",
       "               '2019-11-12', '2019-11-13'],\n",
       "              dtype='datetime64[ns]', length=134, freq='D')"
      ]
     },
     "execution_count": 26,
     "metadata": {},
     "output_type": "execute_result"
    }
   ],
   "source": [
    "# comb_df.info()\n",
    "\n",
    "# for dt in comb_df:\n",
    "#     print (dt)\n",
    "pd.date_range('2019-07-03', '2019-11-13')"
   ]
  },
  {
   "cell_type": "code",
   "execution_count": 27,
   "metadata": {},
   "outputs": [
    {
     "ename": "ValueError",
     "evalue": "The truth value of a DatetimeIndex is ambiguous. Use a.empty, a.bool(), a.item(), a.any() or a.all().",
     "output_type": "error",
     "traceback": [
      "\u001b[0;31m---------------------------------------------------------------------------\u001b[0m",
      "\u001b[0;31mValueError\u001b[0m                                Traceback (most recent call last)",
      "\u001b[0;32m<ipython-input-27-ab3eae33968e>\u001b[0m in \u001b[0;36m<module>\u001b[0;34m\u001b[0m\n\u001b[1;32m     19\u001b[0m        \u001b[0;32mreturn\u001b[0m \u001b[0;34m\"winter\"\u001b[0m\u001b[0;34m\u001b[0m\u001b[0;34m\u001b[0m\u001b[0m\n\u001b[1;32m     20\u001b[0m \u001b[0;34m\u001b[0m\u001b[0m\n\u001b[0;32m---> 21\u001b[0;31m \u001b[0mgetSeason\u001b[0m\u001b[0;34m(\u001b[0m\u001b[0;34m'2019-09-23'\u001b[0m\u001b[0;34m)\u001b[0m\u001b[0;34m\u001b[0m\u001b[0;34m\u001b[0m\u001b[0m\n\u001b[0m",
      "\u001b[0;32m<ipython-input-27-ab3eae33968e>\u001b[0m in \u001b[0;36mgetSeason\u001b[0;34m(date)\u001b[0m\n\u001b[1;32m     10\u001b[0m \u001b[0;32mdef\u001b[0m \u001b[0mgetSeason\u001b[0m\u001b[0;34m(\u001b[0m\u001b[0mdate\u001b[0m\u001b[0;34m)\u001b[0m\u001b[0;34m:\u001b[0m\u001b[0;34m\u001b[0m\u001b[0;34m\u001b[0m\u001b[0m\n\u001b[1;32m     11\u001b[0m \u001b[0;34m\u001b[0m\u001b[0m\n\u001b[0;32m---> 12\u001b[0;31m     \u001b[0;32mif\u001b[0m \u001b[0;34m(\u001b[0m\u001b[0mpd\u001b[0m\u001b[0;34m.\u001b[0m\u001b[0mdate_range\u001b[0m\u001b[0;34m(\u001b[0m\u001b[0;34m'2019-03-20'\u001b[0m\u001b[0;34m,\u001b[0m \u001b[0;34m'2019-06-20'\u001b[0m\u001b[0;34m)\u001b[0m\u001b[0;34m)\u001b[0m\u001b[0;34m:\u001b[0m\u001b[0;34m\u001b[0m\u001b[0;34m\u001b[0m\u001b[0m\n\u001b[0m\u001b[1;32m     13\u001b[0m        \u001b[0;32mreturn\u001b[0m \u001b[0;34m\"spring\"\u001b[0m\u001b[0;34m\u001b[0m\u001b[0;34m\u001b[0m\u001b[0m\n\u001b[1;32m     14\u001b[0m     \u001b[0;32melif\u001b[0m \u001b[0;34m(\u001b[0m\u001b[0mpd\u001b[0m\u001b[0;34m.\u001b[0m\u001b[0mdate_range\u001b[0m\u001b[0;34m(\u001b[0m\u001b[0;34m'2019-06-21'\u001b[0m\u001b[0;34m,\u001b[0m \u001b[0;34m'2019-09-22'\u001b[0m\u001b[0;34m)\u001b[0m\u001b[0;34m)\u001b[0m\u001b[0;34m:\u001b[0m\u001b[0;34m\u001b[0m\u001b[0;34m\u001b[0m\u001b[0m\n",
      "\u001b[0;32m~/opt/anaconda3/lib/python3.7/site-packages/pandas/core/indexes/base.py\u001b[0m in \u001b[0;36m__nonzero__\u001b[0;34m(self)\u001b[0m\n\u001b[1;32m   2148\u001b[0m     \u001b[0;32mdef\u001b[0m \u001b[0m__nonzero__\u001b[0m\u001b[0;34m(\u001b[0m\u001b[0mself\u001b[0m\u001b[0;34m)\u001b[0m\u001b[0;34m:\u001b[0m\u001b[0;34m\u001b[0m\u001b[0;34m\u001b[0m\u001b[0m\n\u001b[1;32m   2149\u001b[0m         raise ValueError(\n\u001b[0;32m-> 2150\u001b[0;31m             \u001b[0;34mf\"The truth value of a {type(self).__name__} is ambiguous. \"\u001b[0m\u001b[0;34m\u001b[0m\u001b[0;34m\u001b[0m\u001b[0m\n\u001b[0m\u001b[1;32m   2151\u001b[0m             \u001b[0;34m\"Use a.empty, a.bool(), a.item(), a.any() or a.all().\"\u001b[0m\u001b[0;34m\u001b[0m\u001b[0;34m\u001b[0m\u001b[0m\n\u001b[1;32m   2152\u001b[0m         )\n",
      "\u001b[0;31mValueError\u001b[0m: The truth value of a DatetimeIndex is ambiguous. Use a.empty, a.bool(), a.item(), a.any() or a.all()."
     ]
    }
   ],
   "source": [
    "# Add column 'Season' to dataset\n",
    "\n",
    "\n",
    "#  Function to  determine the season based on 2019 calander\n",
    "# Spring - March 20th - Wednesday\n",
    "# Summer - June 21st - Friday\n",
    "# Fall - September 23rd - Monday\t-207\n",
    "# Winter - December 21st - Saturday\n",
    "\n",
    "def getSeason(date):\n",
    "   \n",
    "    if (pd.date_range('2019-03-20', '2019-06-20')):\n",
    "       return \"spring\"\n",
    "    elif (pd.date_range('2019-06-21', '2019-09-22')):\n",
    "       return \"summer\"\n",
    "    elif (pd.date_range('2019-09-23', '2019-12-20')):\n",
    "       return \"fall\"\n",
    "    else:\n",
    "       return \"winter\"\n",
    "\n",
    "getSeason('2019-09-23')"
   ]
  },
  {
   "cell_type": "code",
   "execution_count": null,
   "metadata": {},
   "outputs": [],
   "source": [
    "# Exporting df as csv\n",
    "credit_df.to_csv(r'credit_combined.csv', index = False)\n",
    "debit_df.to_csv(r'debit_combined.csv', index = False)"
   ]
  }
 ],
 "metadata": {
  "kernelspec": {
   "display_name": "Python 3",
   "language": "python",
   "name": "python3"
  },
  "language_info": {
   "codemirror_mode": {
    "name": "ipython",
    "version": 3
   },
   "file_extension": ".py",
   "mimetype": "text/x-python",
   "name": "python",
   "nbconvert_exporter": "python",
   "pygments_lexer": "ipython3",
   "version": "3.7.6"
  }
 },
 "nbformat": 4,
 "nbformat_minor": 4
}
