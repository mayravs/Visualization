{
 "cells": [
  {
   "cell_type": "code",
   "execution_count": 62,
   "metadata": {},
   "outputs": [],
   "source": [
    "# Load the Pandas libraries with alias 'pd'\n",
    "import pandas as pd\n",
    "\n",
    "# Read data from file 'filename.csv'\n",
    "data_MM = pd.read_csv(\"MM_2019_Data.csv\",)\n",
    "data_MVS = pd.read_csv(\"MVS_2019_Data.csv\",)\n",
    "\n",
    "# Combinig dataframes\n",
    "frames = [data_MM, data_MVS]\n",
    "comb_df = pd.concat(frames)\n",
    "\n",
    "# Delete unecesary column ie.'balance'\n",
    "comb_df = comb_df.drop(['Balance'], axis=1)\n",
    "\n",
    "# Changing date format to 'yyyy/mm/dd'\n",
    "comb_df['Transaction Date'] = pd.to_datetime(comb_df['Transaction Date'])\n",
    "comb_df['Transaction Date'] = comb_df['Transaction Date'].dt.strftime('%Y/%m/%d')\n",
    "\n",
    "# Set 'transaction Amount' to positive floats\n",
    "comb_df['Transaction Amount'] = comb_df['Transaction Amount'].astype('str')\n",
    "comb_df['Transaction Amount'] = comb_df['Transaction Amount'].str.replace('-','')\n",
    "comb_df['Transaction Amount'] = comb_df['Transaction Amount'].astype('float')\n",
    "\n",
    "# Separate debit vs credit rows\n",
    "credit_df = comb_df[(comb_df['Transaction Type'] == 'Credit')]\n",
    "debit_df = comb_df[(comb_df['Transaction Type'] == 'Debit')]\n",
    "\n",
    "# Delete unecesary column ie.'balance'\n",
    "credit_df = credit_df.drop(['Transaction Type'], axis=1)\n",
    "debit_df = debit_df.drop(['Transaction Type'], axis=1)\n",
    "\n",
    "\n",
    "# Exporting df as csv\n",
    "credit_df.to_csv(r'credit_combined.csv', index = False)\n",
    "debit_df.to_csv(r'debit_combined.csv', index = False)"
   ]
  }
 ],
 "metadata": {
  "kernelspec": {
   "display_name": "Python 3",
   "language": "python",
   "name": "python3"
  },
  "language_info": {
   "codemirror_mode": {
    "name": "ipython",
    "version": 3
   },
   "file_extension": ".py",
   "mimetype": "text/x-python",
   "name": "python",
   "nbconvert_exporter": "python",
   "pygments_lexer": "ipython3",
   "version": "3.7.6"
  }
 },
 "nbformat": 4,
 "nbformat_minor": 4
}
